{
  "cells": [
    {
      "cell_type": "code",
      "execution_count": null,
      "id": "332abf75-3dbd-4930-bafa-2d1a1ec9fbdb",
      "metadata": {
        "id": "332abf75-3dbd-4930-bafa-2d1a1ec9fbdb"
      },
      "outputs": [],
      "source": [
        "import pandas as pd\n",
        "import numpy as np\n",
        "import matplotlib.pyplot as plt\n",
        "import seaborn as sns"
      ]
    },
    {
      "cell_type": "code",
      "execution_count": null,
      "id": "b2170730-0f20-4d5f-ad41-61b32e1117f9",
      "metadata": {
        "colab": {
          "base_uri": "https://localhost:8080/",
          "height": 325
        },
        "id": "b2170730-0f20-4d5f-ad41-61b32e1117f9",
        "outputId": "e9dc2de1-ac18-4ba4-9c5f-7370de608209"
      },
      "outputs": [
        {
          "output_type": "error",
          "ename": "FileNotFoundError",
          "evalue": "[Errno 2] No such file or directory: 'ToyotaCorolla - MLR.csv'",
          "traceback": [
            "\u001b[0;31m---------------------------------------------------------------------------\u001b[0m",
            "\u001b[0;31mFileNotFoundError\u001b[0m                         Traceback (most recent call last)",
            "\u001b[0;32m<ipython-input-2-e3376a8c3d42>\u001b[0m in \u001b[0;36m<cell line: 0>\u001b[0;34m()\u001b[0m\n\u001b[0;32m----> 1\u001b[0;31m \u001b[0mdata\u001b[0m\u001b[0;34m=\u001b[0m\u001b[0mpd\u001b[0m\u001b[0;34m.\u001b[0m\u001b[0mread_csv\u001b[0m\u001b[0;34m(\u001b[0m\u001b[0;34m'ToyotaCorolla - MLR.csv'\u001b[0m\u001b[0;34m)\u001b[0m\u001b[0;34m\u001b[0m\u001b[0;34m\u001b[0m\u001b[0m\n\u001b[0m\u001b[1;32m      2\u001b[0m \u001b[0mdata\u001b[0m\u001b[0;34m.\u001b[0m\u001b[0mhead\u001b[0m\u001b[0;34m(\u001b[0m\u001b[0;34m)\u001b[0m\u001b[0;34m\u001b[0m\u001b[0;34m\u001b[0m\u001b[0m\n",
            "\u001b[0;32m/usr/local/lib/python3.11/dist-packages/pandas/io/parsers/readers.py\u001b[0m in \u001b[0;36mread_csv\u001b[0;34m(filepath_or_buffer, sep, delimiter, header, names, index_col, usecols, dtype, engine, converters, true_values, false_values, skipinitialspace, skiprows, skipfooter, nrows, na_values, keep_default_na, na_filter, verbose, skip_blank_lines, parse_dates, infer_datetime_format, keep_date_col, date_parser, date_format, dayfirst, cache_dates, iterator, chunksize, compression, thousands, decimal, lineterminator, quotechar, quoting, doublequote, escapechar, comment, encoding, encoding_errors, dialect, on_bad_lines, delim_whitespace, low_memory, memory_map, float_precision, storage_options, dtype_backend)\u001b[0m\n\u001b[1;32m   1024\u001b[0m     \u001b[0mkwds\u001b[0m\u001b[0;34m.\u001b[0m\u001b[0mupdate\u001b[0m\u001b[0;34m(\u001b[0m\u001b[0mkwds_defaults\u001b[0m\u001b[0;34m)\u001b[0m\u001b[0;34m\u001b[0m\u001b[0;34m\u001b[0m\u001b[0m\n\u001b[1;32m   1025\u001b[0m \u001b[0;34m\u001b[0m\u001b[0m\n\u001b[0;32m-> 1026\u001b[0;31m     \u001b[0;32mreturn\u001b[0m \u001b[0m_read\u001b[0m\u001b[0;34m(\u001b[0m\u001b[0mfilepath_or_buffer\u001b[0m\u001b[0;34m,\u001b[0m \u001b[0mkwds\u001b[0m\u001b[0;34m)\u001b[0m\u001b[0;34m\u001b[0m\u001b[0;34m\u001b[0m\u001b[0m\n\u001b[0m\u001b[1;32m   1027\u001b[0m \u001b[0;34m\u001b[0m\u001b[0m\n\u001b[1;32m   1028\u001b[0m \u001b[0;34m\u001b[0m\u001b[0m\n",
            "\u001b[0;32m/usr/local/lib/python3.11/dist-packages/pandas/io/parsers/readers.py\u001b[0m in \u001b[0;36m_read\u001b[0;34m(filepath_or_buffer, kwds)\u001b[0m\n\u001b[1;32m    618\u001b[0m \u001b[0;34m\u001b[0m\u001b[0m\n\u001b[1;32m    619\u001b[0m     \u001b[0;31m# Create the parser.\u001b[0m\u001b[0;34m\u001b[0m\u001b[0;34m\u001b[0m\u001b[0m\n\u001b[0;32m--> 620\u001b[0;31m     \u001b[0mparser\u001b[0m \u001b[0;34m=\u001b[0m \u001b[0mTextFileReader\u001b[0m\u001b[0;34m(\u001b[0m\u001b[0mfilepath_or_buffer\u001b[0m\u001b[0;34m,\u001b[0m \u001b[0;34m**\u001b[0m\u001b[0mkwds\u001b[0m\u001b[0;34m)\u001b[0m\u001b[0;34m\u001b[0m\u001b[0;34m\u001b[0m\u001b[0m\n\u001b[0m\u001b[1;32m    621\u001b[0m \u001b[0;34m\u001b[0m\u001b[0m\n\u001b[1;32m    622\u001b[0m     \u001b[0;32mif\u001b[0m \u001b[0mchunksize\u001b[0m \u001b[0;32mor\u001b[0m \u001b[0miterator\u001b[0m\u001b[0;34m:\u001b[0m\u001b[0;34m\u001b[0m\u001b[0;34m\u001b[0m\u001b[0m\n",
            "\u001b[0;32m/usr/local/lib/python3.11/dist-packages/pandas/io/parsers/readers.py\u001b[0m in \u001b[0;36m__init__\u001b[0;34m(self, f, engine, **kwds)\u001b[0m\n\u001b[1;32m   1618\u001b[0m \u001b[0;34m\u001b[0m\u001b[0m\n\u001b[1;32m   1619\u001b[0m         \u001b[0mself\u001b[0m\u001b[0;34m.\u001b[0m\u001b[0mhandles\u001b[0m\u001b[0;34m:\u001b[0m \u001b[0mIOHandles\u001b[0m \u001b[0;34m|\u001b[0m \u001b[0;32mNone\u001b[0m \u001b[0;34m=\u001b[0m \u001b[0;32mNone\u001b[0m\u001b[0;34m\u001b[0m\u001b[0;34m\u001b[0m\u001b[0m\n\u001b[0;32m-> 1620\u001b[0;31m         \u001b[0mself\u001b[0m\u001b[0;34m.\u001b[0m\u001b[0m_engine\u001b[0m \u001b[0;34m=\u001b[0m \u001b[0mself\u001b[0m\u001b[0;34m.\u001b[0m\u001b[0m_make_engine\u001b[0m\u001b[0;34m(\u001b[0m\u001b[0mf\u001b[0m\u001b[0;34m,\u001b[0m \u001b[0mself\u001b[0m\u001b[0;34m.\u001b[0m\u001b[0mengine\u001b[0m\u001b[0;34m)\u001b[0m\u001b[0;34m\u001b[0m\u001b[0;34m\u001b[0m\u001b[0m\n\u001b[0m\u001b[1;32m   1621\u001b[0m \u001b[0;34m\u001b[0m\u001b[0m\n\u001b[1;32m   1622\u001b[0m     \u001b[0;32mdef\u001b[0m \u001b[0mclose\u001b[0m\u001b[0;34m(\u001b[0m\u001b[0mself\u001b[0m\u001b[0;34m)\u001b[0m \u001b[0;34m->\u001b[0m \u001b[0;32mNone\u001b[0m\u001b[0;34m:\u001b[0m\u001b[0;34m\u001b[0m\u001b[0;34m\u001b[0m\u001b[0m\n",
            "\u001b[0;32m/usr/local/lib/python3.11/dist-packages/pandas/io/parsers/readers.py\u001b[0m in \u001b[0;36m_make_engine\u001b[0;34m(self, f, engine)\u001b[0m\n\u001b[1;32m   1878\u001b[0m                 \u001b[0;32mif\u001b[0m \u001b[0;34m\"b\"\u001b[0m \u001b[0;32mnot\u001b[0m \u001b[0;32min\u001b[0m \u001b[0mmode\u001b[0m\u001b[0;34m:\u001b[0m\u001b[0;34m\u001b[0m\u001b[0;34m\u001b[0m\u001b[0m\n\u001b[1;32m   1879\u001b[0m                     \u001b[0mmode\u001b[0m \u001b[0;34m+=\u001b[0m \u001b[0;34m\"b\"\u001b[0m\u001b[0;34m\u001b[0m\u001b[0;34m\u001b[0m\u001b[0m\n\u001b[0;32m-> 1880\u001b[0;31m             self.handles = get_handle(\n\u001b[0m\u001b[1;32m   1881\u001b[0m                 \u001b[0mf\u001b[0m\u001b[0;34m,\u001b[0m\u001b[0;34m\u001b[0m\u001b[0;34m\u001b[0m\u001b[0m\n\u001b[1;32m   1882\u001b[0m                 \u001b[0mmode\u001b[0m\u001b[0;34m,\u001b[0m\u001b[0;34m\u001b[0m\u001b[0;34m\u001b[0m\u001b[0m\n",
            "\u001b[0;32m/usr/local/lib/python3.11/dist-packages/pandas/io/common.py\u001b[0m in \u001b[0;36mget_handle\u001b[0;34m(path_or_buf, mode, encoding, compression, memory_map, is_text, errors, storage_options)\u001b[0m\n\u001b[1;32m    871\u001b[0m         \u001b[0;32mif\u001b[0m \u001b[0mioargs\u001b[0m\u001b[0;34m.\u001b[0m\u001b[0mencoding\u001b[0m \u001b[0;32mand\u001b[0m \u001b[0;34m\"b\"\u001b[0m \u001b[0;32mnot\u001b[0m \u001b[0;32min\u001b[0m \u001b[0mioargs\u001b[0m\u001b[0;34m.\u001b[0m\u001b[0mmode\u001b[0m\u001b[0;34m:\u001b[0m\u001b[0;34m\u001b[0m\u001b[0;34m\u001b[0m\u001b[0m\n\u001b[1;32m    872\u001b[0m             \u001b[0;31m# Encoding\u001b[0m\u001b[0;34m\u001b[0m\u001b[0;34m\u001b[0m\u001b[0m\n\u001b[0;32m--> 873\u001b[0;31m             handle = open(\n\u001b[0m\u001b[1;32m    874\u001b[0m                 \u001b[0mhandle\u001b[0m\u001b[0;34m,\u001b[0m\u001b[0;34m\u001b[0m\u001b[0;34m\u001b[0m\u001b[0m\n\u001b[1;32m    875\u001b[0m                 \u001b[0mioargs\u001b[0m\u001b[0;34m.\u001b[0m\u001b[0mmode\u001b[0m\u001b[0;34m,\u001b[0m\u001b[0;34m\u001b[0m\u001b[0;34m\u001b[0m\u001b[0m\n",
            "\u001b[0;31mFileNotFoundError\u001b[0m: [Errno 2] No such file or directory: 'ToyotaCorolla - MLR.csv'"
          ]
        }
      ],
      "source": [
        "data=pd.read_csv('ToyotaCorolla - MLR.csv')\n",
        "data.head()"
      ]
    },
    {
      "cell_type": "markdown",
      "id": "afdbb187-55db-4bc3-a267-d842a1eaed3f",
      "metadata": {
        "id": "afdbb187-55db-4bc3-a267-d842a1eaed3f"
      },
      "source": [
        "# **EDA**"
      ]
    },
    {
      "cell_type": "code",
      "execution_count": null,
      "id": "5a16eb66-fea9-4f0d-8e58-e93bbbe0753b",
      "metadata": {
        "id": "5a16eb66-fea9-4f0d-8e58-e93bbbe0753b"
      },
      "outputs": [],
      "source": [
        "data.shape"
      ]
    },
    {
      "cell_type": "markdown",
      "id": "_Xp-BbCaPAmt",
      "metadata": {
        "id": "_Xp-BbCaPAmt"
      },
      "source": [
        "# Categorical Columns\n",
        "\n",
        "\n",
        "## 1.Fuel_Type,2.HP,3.Automatic,4.cc,5.Doors,6.Cylinders,7.Gears"
      ]
    },
    {
      "cell_type": "code",
      "execution_count": null,
      "id": "2396b3b2-4c67-45d3-89cc-36fff54a2db3",
      "metadata": {
        "id": "2396b3b2-4c67-45d3-89cc-36fff54a2db3"
      },
      "outputs": [],
      "source": [
        "## Fuel_Type\n",
        "\n",
        "print(data['Fuel_Type'].unique())\n",
        "print(data['Fuel_Type'].value_counts())                                          ## Imbalanced data [Petrol cars are too many][CNG car data are too less]"
      ]
    },
    {
      "cell_type": "code",
      "execution_count": null,
      "id": "6e492077-1724-4208-a8c0-7534cbc826a8",
      "metadata": {
        "id": "6e492077-1724-4208-a8c0-7534cbc826a8"
      },
      "outputs": [],
      "source": [
        "## HP\n",
        "\n",
        "print(data['HP'].unique())\n",
        "print(data['HP'].value_counts().sort_values())                                  # skewed data  ## maybe we can remove the rows with HP 71,73,98"
      ]
    },
    {
      "cell_type": "code",
      "execution_count": null,
      "id": "u4vNitrnP0_l",
      "metadata": {
        "id": "u4vNitrnP0_l"
      },
      "outputs": [],
      "source": [
        "## Automatic\n",
        "\n",
        "print(data['Automatic'].unique())\n",
        "print(data['Automatic'].value_counts().sort_values())                            # skewed data"
      ]
    },
    {
      "cell_type": "code",
      "execution_count": null,
      "id": "Osqxwt3WQfJO",
      "metadata": {
        "id": "Osqxwt3WQfJO"
      },
      "outputs": [],
      "source": [
        "## cc\n",
        "\n",
        "print(data['cc'].unique())\n",
        "print(data['cc'].value_counts().sort_values())                                    # 16000 cc row outlier can be removed         ## maybe we can remove rows with cc =1975 ,1995,"
      ]
    },
    {
      "cell_type": "code",
      "execution_count": null,
      "id": "d3qrywPAQ0s-",
      "metadata": {
        "id": "d3qrywPAQ0s-"
      },
      "outputs": [],
      "source": [
        "## Doors\n",
        "\n",
        "print(data['Doors'].unique())\n",
        "print(data['Doors'].value_counts().sort_values())                                  ## maybe we can remove cars with 2 doors"
      ]
    },
    {
      "cell_type": "code",
      "execution_count": null,
      "id": "NEzgcLjDRJda",
      "metadata": {
        "id": "NEzgcLjDRJda"
      },
      "outputs": [],
      "source": [
        "## Cylinders\n",
        "\n",
        "print(data['Cylinders'].unique())\n",
        "print(data['Cylinders'].value_counts().sort_values())                              # This will give no imformation can be removed"
      ]
    },
    {
      "cell_type": "code",
      "execution_count": null,
      "id": "FaWefTCMRY5q",
      "metadata": {
        "id": "FaWefTCMRY5q"
      },
      "outputs": [],
      "source": [
        "## Gears\n",
        "\n",
        "print(data['Gears'].unique())\n",
        "print(data['Gears'].value_counts().sort_values())                                        ## can remove car with gear 3,4"
      ]
    },
    {
      "cell_type": "markdown",
      "id": "-BugH8DFPidd",
      "metadata": {
        "id": "-BugH8DFPidd"
      },
      "source": [
        "Numerical Data\n",
        "1.Price,2.Age,3.KM,4.Weight"
      ]
    },
    {
      "cell_type": "code",
      "execution_count": null,
      "id": "6pVj0-XqQepn",
      "metadata": {
        "id": "6pVj0-XqQepn"
      },
      "outputs": [],
      "source": [
        "plt.hist(data['Price'],bins=7)"
      ]
    },
    {
      "cell_type": "code",
      "execution_count": null,
      "id": "eMcAm8TIT55j",
      "metadata": {
        "id": "eMcAm8TIT55j"
      },
      "outputs": [],
      "source": [
        "plt.hist(data['Age_08_04'],bins=7)"
      ]
    },
    {
      "cell_type": "code",
      "execution_count": null,
      "id": "nfnR-esbULTj",
      "metadata": {
        "id": "nfnR-esbULTj"
      },
      "outputs": [],
      "source": [
        "plt.hist(data['KM'],bins=7)"
      ]
    },
    {
      "cell_type": "code",
      "execution_count": null,
      "id": "-HUEwUXVUQw9",
      "metadata": {
        "id": "-HUEwUXVUQw9"
      },
      "outputs": [],
      "source": [
        "plt.hist(data['Weight'],bins=7)"
      ]
    },
    {
      "cell_type": "code",
      "execution_count": null,
      "id": "6b56f92e-be10-4dc9-af16-ae36b7ee1c2c",
      "metadata": {
        "id": "6b56f92e-be10-4dc9-af16-ae36b7ee1c2c"
      },
      "outputs": [],
      "source": [
        "data.info()"
      ]
    },
    {
      "cell_type": "code",
      "execution_count": null,
      "id": "f3c3650d-8f37-4181-930b-4cdf6510e4f6",
      "metadata": {
        "id": "f3c3650d-8f37-4181-930b-4cdf6510e4f6"
      },
      "outputs": [],
      "source": [
        "data.duplicated().sum()"
      ]
    },
    {
      "cell_type": "code",
      "execution_count": null,
      "id": "3eef9531-9b72-415a-9d05-df1e8b5fe9c7",
      "metadata": {
        "id": "3eef9531-9b72-415a-9d05-df1e8b5fe9c7"
      },
      "outputs": [],
      "source": [
        "data=data.drop_duplicates()"
      ]
    },
    {
      "cell_type": "code",
      "execution_count": null,
      "id": "4c1e9cb5-1cab-4cd7-8ee0-0a92fc49ec8d",
      "metadata": {
        "id": "4c1e9cb5-1cab-4cd7-8ee0-0a92fc49ec8d"
      },
      "outputs": [],
      "source": [
        "data.shape"
      ]
    },
    {
      "cell_type": "code",
      "execution_count": null,
      "id": "82fa0918-03db-4f13-b3cd-79f974aac673",
      "metadata": {
        "id": "82fa0918-03db-4f13-b3cd-79f974aac673"
      },
      "outputs": [],
      "source": [
        "data.describe()"
      ]
    },
    {
      "cell_type": "code",
      "execution_count": null,
      "id": "29ndIB6cWHq6",
      "metadata": {
        "id": "29ndIB6cWHq6"
      },
      "outputs": [],
      "source": [
        "df=data.drop('Cylinders',axis=1)\n",
        "df.head()"
      ]
    },
    {
      "cell_type": "code",
      "execution_count": null,
      "id": "lm2jISKvWsLj",
      "metadata": {
        "id": "lm2jISKvWsLj"
      },
      "outputs": [],
      "source": [
        "new_df=df[df['cc'] != 16000]"
      ]
    },
    {
      "cell_type": "code",
      "execution_count": null,
      "id": "YITqqN68XbFq",
      "metadata": {
        "id": "YITqqN68XbFq"
      },
      "outputs": [],
      "source": [
        "new_df[new_df['cc'] == 16000]"
      ]
    },
    {
      "cell_type": "code",
      "execution_count": null,
      "id": "Oq-rcHISWe8f",
      "metadata": {
        "id": "Oq-rcHISWe8f"
      },
      "outputs": [],
      "source": [
        "new_df.shape"
      ]
    },
    {
      "cell_type": "code",
      "execution_count": null,
      "id": "62dd7665-68c5-4f3a-8541-ca76a21ce835",
      "metadata": {
        "id": "62dd7665-68c5-4f3a-8541-ca76a21ce835"
      },
      "outputs": [],
      "source": [
        "sns.boxplot(new_df['Price'])\n"
      ]
    },
    {
      "cell_type": "code",
      "execution_count": null,
      "id": "vrtE5yWqd5ic",
      "metadata": {
        "id": "vrtE5yWqd5ic"
      },
      "outputs": [],
      "source": [
        "sns.distplot(new_df['Price'])\n",
        "\n",
        "skewness = new_df['Price'].skew()\n",
        "print(f\"Skewness of the feature: {skewness}\")"
      ]
    },
    {
      "cell_type": "code",
      "execution_count": null,
      "id": "EPuQ0oK6eeQl",
      "metadata": {
        "id": "EPuQ0oK6eeQl"
      },
      "outputs": [],
      "source": [
        "sns.boxplot(new_df['Age_08_04'])"
      ]
    },
    {
      "cell_type": "code",
      "execution_count": null,
      "id": "ea3ab5b6-9e95-45ea-9213-3f4b176543c1",
      "metadata": {
        "id": "ea3ab5b6-9e95-45ea-9213-3f4b176543c1"
      },
      "outputs": [],
      "source": [
        "sns.distplot(new_df['Age_08_04'])\n",
        "\n",
        "Age_skewness = new_df['Age_08_04'].skew()\n",
        "print(f\"Skewness of the feature: {Age_skewness}\")"
      ]
    },
    {
      "cell_type": "code",
      "execution_count": null,
      "id": "SHhzQRD9e00C",
      "metadata": {
        "id": "SHhzQRD9e00C"
      },
      "outputs": [],
      "source": [
        "sns.boxplot(new_df['KM'])"
      ]
    },
    {
      "cell_type": "code",
      "execution_count": null,
      "id": "wZfYzRtTe_z6",
      "metadata": {
        "id": "wZfYzRtTe_z6"
      },
      "outputs": [],
      "source": [
        "sns.distplot(new_df['KM'])\n",
        "\n",
        "KM_skewness = new_df['KM'].skew()\n",
        "print(f\"Skewness of the feature: {KM_skewness}\")"
      ]
    },
    {
      "cell_type": "code",
      "execution_count": null,
      "id": "Xxi85k0Jf-Ud",
      "metadata": {
        "id": "Xxi85k0Jf-Ud"
      },
      "outputs": [],
      "source": [
        "sns.boxplot(new_df['Weight'])"
      ]
    },
    {
      "cell_type": "code",
      "execution_count": null,
      "id": "JQMYmP10f-Et",
      "metadata": {
        "id": "JQMYmP10f-Et"
      },
      "outputs": [],
      "source": [
        "sns.distplot(new_df['Weight'])\n",
        "\n",
        "KM_skewness = new_df['Weight'].skew()\n",
        "print(f\"Skewness of the feature: {KM_skewness}\")"
      ]
    },
    {
      "cell_type": "code",
      "execution_count": null,
      "id": "b2ce97fb-9201-4d05-a737-4ecbcf2bb70f",
      "metadata": {
        "id": "b2ce97fb-9201-4d05-a737-4ecbcf2bb70f"
      },
      "outputs": [],
      "source": [
        "data_num=new_df.drop('Fuel_Type',axis=1)"
      ]
    },
    {
      "cell_type": "code",
      "execution_count": null,
      "id": "823b38e4-71e8-4e90-b494-2ab0cd25348a",
      "metadata": {
        "id": "823b38e4-71e8-4e90-b494-2ab0cd25348a"
      },
      "outputs": [],
      "source": [
        "data_num"
      ]
    },
    {
      "cell_type": "code",
      "execution_count": null,
      "id": "6d634735-2334-4eb3-ac7f-3c26cd502810",
      "metadata": {
        "id": "6d634735-2334-4eb3-ac7f-3c26cd502810"
      },
      "outputs": [],
      "source": [
        "data_num.corr() # # same scale corelation is better"
      ]
    },
    {
      "cell_type": "code",
      "execution_count": null,
      "id": "a5b80bc5-6c74-4ebd-8d4d-ba86070fb255",
      "metadata": {
        "id": "a5b80bc5-6c74-4ebd-8d4d-ba86070fb255"
      },
      "outputs": [],
      "source": [
        "sns.heatmap(data_num.corr(),annot=True)\n",
        "\n",
        "## Insights\n",
        "# Price and Age  strong negative correlation\n",
        "# Price and KM  negative correlation\n",
        "# Price and Weight positive correlation\n",
        "\n",
        "# cc and weight positive corelation"
      ]
    },
    {
      "cell_type": "code",
      "execution_count": null,
      "id": "1hdTl_ZPh_uD",
      "metadata": {
        "id": "1hdTl_ZPh_uD"
      },
      "outputs": [],
      "source": [
        "q1=new_df['Price'].quantile(0.25)\n",
        "print(q1)\n",
        "q3=new_df['Price'].quantile(0.75)\n",
        "print(q3)"
      ]
    },
    {
      "cell_type": "code",
      "execution_count": null,
      "id": "OFqSiM8XikJY",
      "metadata": {
        "id": "OFqSiM8XikJY"
      },
      "outputs": [],
      "source": [
        "IQR=q3-q1\n",
        "print(IQR)"
      ]
    },
    {
      "cell_type": "code",
      "execution_count": null,
      "id": "-sXBjkP8ixOm",
      "metadata": {
        "id": "-sXBjkP8ixOm"
      },
      "outputs": [],
      "source": [
        "min_val=q1-1.5*IQR\n",
        "max_val=q3+1.5*IQR\n",
        "\n",
        "print(min_val,max_val)"
      ]
    },
    {
      "cell_type": "code",
      "execution_count": null,
      "id": "goz6kNoCjBi5",
      "metadata": {
        "id": "goz6kNoCjBi5"
      },
      "outputs": [],
      "source": [
        "new_df_without_outliers=new_df[(new_df['Price'] >= min_val) & (new_df['Price'] <= max_val)]\n",
        "new_df_without_outliers.shape"
      ]
    },
    {
      "cell_type": "code",
      "execution_count": null,
      "id": "PbzHs1gV2zAN",
      "metadata": {
        "id": "PbzHs1gV2zAN"
      },
      "outputs": [],
      "source": [
        "outliers=new_df[(new_df['Price'] < min_val) | (new_df['Price'] > max_val)]\n",
        "outliers.shape"
      ]
    },
    {
      "cell_type": "code",
      "execution_count": null,
      "id": "bQobyx9Xk9Ak",
      "metadata": {
        "id": "bQobyx9Xk9Ak"
      },
      "outputs": [],
      "source": [
        "new_df.describe()"
      ]
    },
    {
      "cell_type": "code",
      "execution_count": null,
      "id": "NT5J5HDokE1k",
      "metadata": {
        "id": "NT5J5HDokE1k"
      },
      "outputs": [],
      "source": [
        "new_df_without_outliers.describe()"
      ]
    },
    {
      "cell_type": "code",
      "execution_count": null,
      "id": "-KLcegQNl2q2",
      "metadata": {
        "id": "-KLcegQNl2q2"
      },
      "outputs": [],
      "source": [
        "sns.distplot(new_df_without_outliers['Price'])\n",
        "\n",
        "skewness = new_df_without_outliers['Price'].skew()\n",
        "print(f\"Skewness of the feature: {skewness}\")"
      ]
    },
    {
      "cell_type": "code",
      "execution_count": null,
      "id": "fbuzJQdtjY5v",
      "metadata": {
        "id": "fbuzJQdtjY5v"
      },
      "outputs": [],
      "source": [
        "plt.boxplot(new_df_without_outliers['Price'])"
      ]
    },
    {
      "cell_type": "code",
      "execution_count": null,
      "id": "lG8j9FC8hxMj",
      "metadata": {
        "id": "lG8j9FC8hxMj"
      },
      "outputs": [],
      "source": [
        "print(new_df.head())\n",
        "print(new_df.shape)"
      ]
    },
    {
      "cell_type": "markdown",
      "id": "d40551a0-19b7-408b-923d-99e6c67aaffa",
      "metadata": {
        "id": "d40551a0-19b7-408b-923d-99e6c67aaffa"
      },
      "source": [
        "## **Model Building**"
      ]
    },
    {
      "cell_type": "code",
      "execution_count": null,
      "id": "0d4225cd-6529-43dc-a9bf-94ab21580950",
      "metadata": {
        "id": "0d4225cd-6529-43dc-a9bf-94ab21580950"
      },
      "outputs": [],
      "source": [
        "new_df.shape"
      ]
    },
    {
      "cell_type": "code",
      "execution_count": null,
      "id": "2BEJf-5T3653",
      "metadata": {
        "id": "2BEJf-5T3653"
      },
      "outputs": [],
      "source": [
        "new_df_without_outliers.shape"
      ]
    },
    {
      "cell_type": "code",
      "execution_count": null,
      "id": "111ff808-fff1-4441-add0-fbc948379a5c",
      "metadata": {
        "id": "111ff808-fff1-4441-add0-fbc948379a5c"
      },
      "outputs": [],
      "source": [
        "target=new_df[['Price']]\n",
        "target.shape"
      ]
    },
    {
      "cell_type": "code",
      "source": [
        "target1=new_df_without_outliers[['Price']]\n",
        "target1.shape"
      ],
      "metadata": {
        "id": "WTisA0az9E-Z"
      },
      "id": "WTisA0az9E-Z",
      "execution_count": null,
      "outputs": []
    },
    {
      "cell_type": "code",
      "execution_count": null,
      "id": "8a79ee90-d8f7-4f7c-8333-96e707fb9ee4",
      "metadata": {
        "id": "8a79ee90-d8f7-4f7c-8333-96e707fb9ee4"
      },
      "outputs": [],
      "source": [
        "features=new_df.drop('Price',axis=1)\n",
        "features.shape"
      ]
    },
    {
      "cell_type": "code",
      "source": [
        "features1=new_df_without_outliers.drop('Price',axis=1)\n",
        "features1.shape"
      ],
      "metadata": {
        "id": "_wx0cOVY9LJD"
      },
      "id": "_wx0cOVY9LJD",
      "execution_count": null,
      "outputs": []
    },
    {
      "cell_type": "code",
      "execution_count": null,
      "id": "6ec6ff8b-04f8-404e-8106-202ba758227c",
      "metadata": {
        "id": "6ec6ff8b-04f8-404e-8106-202ba758227c"
      },
      "outputs": [],
      "source": [
        "from sklearn.model_selection import train_test_split"
      ]
    },
    {
      "cell_type": "code",
      "execution_count": null,
      "id": "7f183813-f9ce-45b0-a126-3c55dc94e88c",
      "metadata": {
        "id": "7f183813-f9ce-45b0-a126-3c55dc94e88c"
      },
      "outputs": [],
      "source": [
        "x_train,x_test,y_train,y_test=train_test_split(features,target,train_size=0.80,random_state=100)"
      ]
    },
    {
      "cell_type": "code",
      "source": [
        "x_train1,x_test1,y_train1,y_test1=train_test_split(features1,target1,train_size=0.80,random_state=100)                   ## without outliers"
      ],
      "metadata": {
        "id": "9b1yM-2e9clX"
      },
      "id": "9b1yM-2e9clX",
      "execution_count": null,
      "outputs": []
    },
    {
      "cell_type": "code",
      "execution_count": null,
      "id": "32477de3-b215-4ea0-935b-80d79150075e",
      "metadata": {
        "id": "32477de3-b215-4ea0-935b-80d79150075e"
      },
      "outputs": [],
      "source": [
        "print(x_train.shape)\n",
        "print(x_test.shape)\n",
        "print(y_train.shape)\n",
        "print(y_test.shape)"
      ]
    },
    {
      "cell_type": "code",
      "source": [
        "print(x_train1.shape)\n",
        "print(x_test1.shape)\n",
        "print(y_train1.shape)\n",
        "print(y_test1.shape)"
      ],
      "metadata": {
        "id": "iie1OvRf9kpY"
      },
      "id": "iie1OvRf9kpY",
      "execution_count": null,
      "outputs": []
    },
    {
      "cell_type": "markdown",
      "source": [
        "**OneHotEncoder , StandardScaler**"
      ],
      "metadata": {
        "id": "VcBAo0LI9xML"
      },
      "id": "VcBAo0LI9xML"
    },
    {
      "cell_type": "code",
      "source": [
        "from sklearn.preprocessing import OneHotEncoder,StandardScaler"
      ],
      "metadata": {
        "id": "R3hqOf-PocFn"
      },
      "id": "R3hqOf-PocFn",
      "execution_count": null,
      "outputs": []
    },
    {
      "cell_type": "code",
      "source": [
        "ohe=OneHotEncoder(drop='first',dtype=np.int32)"
      ],
      "metadata": {
        "id": "h_8e_Xyjolqf"
      },
      "id": "h_8e_Xyjolqf",
      "execution_count": null,
      "outputs": []
    },
    {
      "cell_type": "code",
      "source": [
        "x_train_ohe=ohe.fit_transform(x_train[['Fuel_Type']]).toarray()\n",
        "x_test_ohe=ohe.transform(x_test[['Fuel_Type']]).toarray()"
      ],
      "metadata": {
        "id": "WRbwhcnQowxZ"
      },
      "id": "WRbwhcnQowxZ",
      "execution_count": null,
      "outputs": []
    },
    {
      "cell_type": "code",
      "source": [
        "x_train_new=np.hstack((x_train[['Age_08_04','KM','HP','Automatic','cc','Doors','Gears','Weight']].values,x_train_ohe))\n",
        "x_test_new=np.hstack((x_test[['Age_08_04','KM','HP','Automatic','cc','Doors','Gears','Weight']].values,x_test_ohe))"
      ],
      "metadata": {
        "id": "b_Vp8nEWpqnb"
      },
      "id": "b_Vp8nEWpqnb",
      "execution_count": null,
      "outputs": []
    },
    {
      "cell_type": "code",
      "source": [
        "x_test_new.shape"
      ],
      "metadata": {
        "id": "vf1S8CZeqwJD"
      },
      "id": "vf1S8CZeqwJD",
      "execution_count": null,
      "outputs": []
    },
    {
      "cell_type": "code",
      "source": [
        "std=StandardScaler()"
      ],
      "metadata": {
        "id": "BrLgUtlvq8Mo"
      },
      "id": "BrLgUtlvq8Mo",
      "execution_count": null,
      "outputs": []
    },
    {
      "cell_type": "code",
      "source": [
        "x_train_std=std.fit_transform(x_train_new)\n",
        "x_test_std=std.transform(x_test_new)"
      ],
      "metadata": {
        "id": "VPFzFKetq7-C"
      },
      "id": "VPFzFKetq7-C",
      "execution_count": null,
      "outputs": []
    },
    {
      "cell_type": "code",
      "source": [
        "x_train_new.shape"
      ],
      "metadata": {
        "id": "HATrEmSPrL_U"
      },
      "id": "HATrEmSPrL_U",
      "execution_count": null,
      "outputs": []
    },
    {
      "cell_type": "markdown",
      "id": "f6fb3698-b201-45e9-9d19-b787c3f94c05",
      "metadata": {
        "id": "f6fb3698-b201-45e9-9d19-b787c3f94c05"
      },
      "source": [
        "# Model1"
      ]
    },
    {
      "cell_type": "code",
      "execution_count": null,
      "id": "70ed857a-6044-4cda-8dd4-6899a3ee57be",
      "metadata": {
        "id": "70ed857a-6044-4cda-8dd4-6899a3ee57be"
      },
      "outputs": [],
      "source": [
        "from sklearn.compose import ColumnTransformer\n",
        "from sklearn.preprocessing import OneHotEncoder,StandardScaler"
      ]
    },
    {
      "cell_type": "code",
      "execution_count": null,
      "id": "a8e0866b-ff94-4ac9-8c91-4a7abee6c6f2",
      "metadata": {
        "id": "a8e0866b-ff94-4ac9-8c91-4a7abee6c6f2"
      },
      "outputs": [],
      "source": [
        "from sklearn.linear_model import LinearRegression"
      ]
    },
    {
      "cell_type": "code",
      "execution_count": null,
      "id": "d0e9e6c6-f2a2-489e-ab4c-25474db16a6a",
      "metadata": {
        "id": "d0e9e6c6-f2a2-489e-ab4c-25474db16a6a"
      },
      "outputs": [],
      "source": [
        "from sklearn.metrics import r2_score"
      ]
    },
    {
      "cell_type": "code",
      "execution_count": null,
      "id": "1d08012c-347a-4f46-987f-d09c965e42fb",
      "metadata": {
        "id": "1d08012c-347a-4f46-987f-d09c965e42fb"
      },
      "outputs": [],
      "source": [
        "from sklearn.pipeline import make_pipeline"
      ]
    },
    {
      "cell_type": "code",
      "source": [
        "from sklearn.compose import make_column_selector"
      ],
      "metadata": {
        "id": "N4iDri6EAkNH"
      },
      "id": "N4iDri6EAkNH",
      "execution_count": null,
      "outputs": []
    },
    {
      "cell_type": "code",
      "source": [
        "from sklearn.pipeline import Pipeline,make_pipeline"
      ],
      "metadata": {
        "id": "svvt6vpjhpWQ"
      },
      "id": "svvt6vpjhpWQ",
      "execution_count": null,
      "outputs": []
    },
    {
      "cell_type": "code",
      "source": [
        "from sklearn.pipeline import Pipeline"
      ],
      "metadata": {
        "id": "tK3ypxIZDBcK"
      },
      "id": "tK3ypxIZDBcK",
      "execution_count": null,
      "outputs": []
    },
    {
      "cell_type": "code",
      "source": [
        "# Step 1: Preprocess data (OneHotEncode categorical columns)\n",
        "preprocessor = ColumnTransformer(\n",
        "    transformers=[\n",
        "        ('ohe', OneHotEncoder(drop='first'), ['Fuel_Type'])  # OneHotEncoder for categorical columns\n",
        "    ],\n",
        "    remainder='passthrough'  # Keep numerical columns untouched for now\n",
        ")\n",
        "\n",
        "# Step 2: Define the pipeline\n",
        "pipe = Pipeline([\n",
        "    ('preprocessor', preprocessor),         # Apply preprocessing (OneHotEncoder)\n",
        "    ('scaler', StandardScaler()),           # Scale all columns (both numerical and encoded)\n",
        "    ('mlr', LinearRegression())             # Linear regression model\n",
        "])\n",
        "\n",
        "# Fit pipeline\n",
        "pipe.fit(x_train, y_train)\n",
        "\n",
        "# Evaluate the model\n",
        "score = pipe.score(x_test, y_test)\n",
        "print(f\"Model R^2 score: {score:.2f}\")"
      ],
      "metadata": {
        "id": "kbsXua74jzH3"
      },
      "id": "kbsXua74jzH3",
      "execution_count": null,
      "outputs": []
    },
    {
      "cell_type": "code",
      "source": [
        "pipe"
      ],
      "metadata": {
        "id": "C5YCakEi8PbH"
      },
      "id": "C5YCakEi8PbH",
      "execution_count": null,
      "outputs": []
    },
    {
      "cell_type": "code",
      "source": [
        "# Step 1: Preprocess data (OneHotEncode categorical columns)                                ## without outlier\n",
        "preprocessor = ColumnTransformer(\n",
        "    transformers=[\n",
        "        ('ohe', OneHotEncoder(drop='first'), ['Fuel_Type'])  # OneHotEncoder for categorical columns\n",
        "    ],\n",
        "    remainder='passthrough'  # Keep numerical columns untouched for now\n",
        ")\n",
        "\n",
        "# Step 2: Define the pipeline\n",
        "pipe = Pipeline([\n",
        "    ('preprocessor', preprocessor),         # Apply preprocessing (OneHotEncoder)\n",
        "    ('scaler', StandardScaler()),           # Scale all columns (both numerical and encoded)\n",
        "    ('mlr', LinearRegression())             # Linear regression model\n",
        "])\n",
        "\n",
        "# Fit pipeline\n",
        "pipe.fit(x_train1, y_train1)\n",
        "\n",
        "# Evaluate the model\n",
        "score = pipe.score(x_test1, y_test1)\n",
        "print(f\"Model R^2 score: {score:.2f}\")"
      ],
      "metadata": {
        "id": "vsJvaUgJ8fpH"
      },
      "id": "vsJvaUgJ8fpH",
      "execution_count": null,
      "outputs": []
    },
    {
      "cell_type": "markdown",
      "source": [
        "# **Model2**\n",
        "\n",
        "## PCA"
      ],
      "metadata": {
        "id": "mE7vALZjl60o"
      },
      "id": "mE7vALZjl60o"
    },
    {
      "cell_type": "code",
      "source": [
        "# Step 1: Preprocess data (OneHotEncode categorical columns)\n",
        "preprocessor1 = ColumnTransformer(\n",
        "    transformers=[\n",
        "        ('ohe', OneHotEncoder(drop='first'), ['Fuel_Type'])  # OneHotEncoder for categorical columns\n",
        "    ],\n",
        "    remainder='passthrough'  # Keep numerical columns untouched for now\n",
        ")\n",
        "\n",
        "# Step 2: Define the pipeline\n",
        "pipe2 = Pipeline([\n",
        "    ('preprocessor', preprocessor1),         # Apply preprocessing (OneHotEncoder)\n",
        "    ('scaler', StandardScaler()),\n",
        "    ('pca', PCA(n_components=0.97)),            # Scale all columns (both numerical and encoded)\n",
        "    ('mlr', LinearRegression())             # Linear regression model\n",
        "])\n",
        "\n",
        "# Fit pipeline\n",
        "pipe2.fit(x_train, y_train)\n",
        "\n",
        "# Evaluate the model\n",
        "score = pipe2.score(x_test, y_test)\n",
        "print(f\"Model R^2 score: {score:.2f}\")"
      ],
      "metadata": {
        "id": "lH6izpiq7ULY"
      },
      "id": "lH6izpiq7ULY",
      "execution_count": null,
      "outputs": []
    },
    {
      "cell_type": "code",
      "source": [
        "pipe2"
      ],
      "metadata": {
        "id": "haSsybEW_uxA"
      },
      "id": "haSsybEW_uxA",
      "execution_count": null,
      "outputs": []
    },
    {
      "cell_type": "code",
      "source": [
        "# Step 1: Preprocess data (OneHotEncode categorical columns)\n",
        "preprocessor1 = ColumnTransformer(\n",
        "    transformers=[\n",
        "        ('ohe', OneHotEncoder(drop='first'), ['Fuel_Type'])  # OneHotEncoder for categorical columns\n",
        "    ],\n",
        "    remainder='passthrough'  # Keep numerical columns untouched for now\n",
        ")\n",
        "\n",
        "# Step 2: Define the pipeline\n",
        "pipe2 = Pipeline([\n",
        "    ('preprocessor', preprocessor1),         # Apply preprocessing (OneHotEncoder)\n",
        "    ('scaler', StandardScaler()),\n",
        "    ('pca', PCA(n_components=0.97)),            # Scale all columns (both numerical and encoded)\n",
        "    ('mlr', LinearRegression())             # Linear regression model\n",
        "])\n",
        "\n",
        "# Fit pipeline\n",
        "pipe2.fit(x_train1, y_train1)\n",
        "\n",
        "# Evaluate the model\n",
        "score = pipe2.score(x_test1, y_test1)\n",
        "print(f\"Model R^2 score: {score:.2f}\")"
      ],
      "metadata": {
        "id": "ghJq8z5O_5Go"
      },
      "id": "ghJq8z5O_5Go",
      "execution_count": null,
      "outputs": []
    },
    {
      "cell_type": "code",
      "source": [
        "from sklearn.decomposition import PCA"
      ],
      "metadata": {
        "id": "Sr-rDrfAkWDH"
      },
      "id": "Sr-rDrfAkWDH",
      "execution_count": null,
      "outputs": []
    },
    {
      "cell_type": "code",
      "source": [
        "pca=PCA(n_components=0.95)"
      ],
      "metadata": {
        "id": "wWN31ddZn76O"
      },
      "id": "wWN31ddZn76O",
      "execution_count": null,
      "outputs": []
    },
    {
      "cell_type": "code",
      "source": [
        "pca.fit(x_train_new)\n",
        "pca.fit(x_test_new)"
      ],
      "metadata": {
        "id": "sVkzeptVoZ1Q"
      },
      "id": "sVkzeptVoZ1Q",
      "execution_count": null,
      "outputs": []
    },
    {
      "cell_type": "code",
      "source": [
        "x_train_pca=pca.transform(x_train_new)\n",
        "x_test_pca=pca.transform(x_test_new)"
      ],
      "metadata": {
        "id": "_psre5g-sUyF"
      },
      "id": "_psre5g-sUyF",
      "execution_count": null,
      "outputs": []
    },
    {
      "cell_type": "code",
      "source": [
        "print(x_train_pca.shape)\n",
        "print(x_test_pca.shape)"
      ],
      "metadata": {
        "id": "QjdvN7hRro_P"
      },
      "id": "QjdvN7hRro_P",
      "execution_count": null,
      "outputs": []
    },
    {
      "cell_type": "code",
      "source": [
        "mlr=LinearRegression()"
      ],
      "metadata": {
        "id": "DEfDn7S0s3QJ"
      },
      "id": "DEfDn7S0s3QJ",
      "execution_count": null,
      "outputs": []
    },
    {
      "cell_type": "code",
      "source": [
        "mlr.fit(x_train_pca,y_train)"
      ],
      "metadata": {
        "id": "Zyek9Frqs26P"
      },
      "id": "Zyek9Frqs26P",
      "execution_count": null,
      "outputs": []
    },
    {
      "cell_type": "code",
      "source": [
        "from sklearn.metrics import accuracy_score"
      ],
      "metadata": {
        "id": "-oFw3n01tcfC"
      },
      "id": "-oFw3n01tcfC",
      "execution_count": null,
      "outputs": []
    },
    {
      "cell_type": "code",
      "source": [
        "y_predict=mlr.predict(x_test_pca)\n",
        "y_predict.shape"
      ],
      "metadata": {
        "id": "fRVs_lkztE5_"
      },
      "id": "fRVs_lkztE5_",
      "execution_count": null,
      "outputs": []
    },
    {
      "cell_type": "code",
      "source": [
        "y_predict.dtype"
      ],
      "metadata": {
        "id": "NSGb2rO7uPkv"
      },
      "id": "NSGb2rO7uPkv",
      "execution_count": null,
      "outputs": []
    },
    {
      "cell_type": "code",
      "source": [
        "y_predict = y_predict.astype('int64')"
      ],
      "metadata": {
        "id": "CDD-oMECv3l3"
      },
      "id": "CDD-oMECv3l3",
      "execution_count": null,
      "outputs": []
    },
    {
      "cell_type": "code",
      "source": [
        "y_predict.dtype"
      ],
      "metadata": {
        "id": "gnRZ-hyfv6p5"
      },
      "id": "gnRZ-hyfv6p5",
      "execution_count": null,
      "outputs": []
    },
    {
      "cell_type": "code",
      "source": [
        "y_test.values.dtype"
      ],
      "metadata": {
        "id": "wO2qe_qgvGkI"
      },
      "id": "wO2qe_qgvGkI",
      "execution_count": null,
      "outputs": []
    },
    {
      "cell_type": "code",
      "source": [
        "accuracy_score(y_test,y_predict)"
      ],
      "metadata": {
        "id": "_0hU25wtv9fh"
      },
      "id": "_0hU25wtv9fh",
      "execution_count": null,
      "outputs": []
    },
    {
      "cell_type": "markdown",
      "source": [
        "## Model 3\n",
        "\n",
        "# Regularisation"
      ],
      "metadata": {
        "id": "cq62XlQdnJS_"
      },
      "id": "cq62XlQdnJS_"
    },
    {
      "cell_type": "code",
      "source": [],
      "metadata": {
        "id": "iw_XiCzgngYO"
      },
      "id": "iw_XiCzgngYO",
      "execution_count": null,
      "outputs": []
    },
    {
      "cell_type": "markdown",
      "id": "2091a7cd-f66c-4760-821e-05d90544b6fb",
      "metadata": {
        "id": "2091a7cd-f66c-4760-821e-05d90544b6fb"
      },
      "source": [
        "# Improvements\n",
        "\n",
        "1. random state\n",
        "2."
      ]
    },
    {
      "cell_type": "code",
      "execution_count": null,
      "id": "f854d3f8-1e00-4324-b769-b01cd1daff96",
      "metadata": {
        "id": "f854d3f8-1e00-4324-b769-b01cd1daff96"
      },
      "outputs": [],
      "source": [
        "ct2=ColumnTransformer(transformers=[('ohe',OneHotEncoder(categories=ohe.categories_,drop='first'),['Fuel_Type'])],remainder='passthrough')"
      ]
    },
    {
      "cell_type": "code",
      "execution_count": null,
      "id": "7fc0dffd-6f5e-4e68-972e-fa5b1c0ced3e",
      "metadata": {
        "id": "7fc0dffd-6f5e-4e68-972e-fa5b1c0ced3e"
      },
      "outputs": [],
      "source": [
        "pipe2=make_pipeline(ct2,mlr)"
      ]
    },
    {
      "cell_type": "code",
      "execution_count": null,
      "id": "96450db7-b3cd-4041-8556-4a56ee7d6e4a",
      "metadata": {
        "id": "96450db7-b3cd-4041-8556-4a56ee7d6e4a"
      },
      "outputs": [],
      "source": [
        "pipe2.fit(x_train,y_train)"
      ]
    },
    {
      "cell_type": "code",
      "execution_count": null,
      "id": "199880ab-aaea-4674-baec-a50d015d05f0",
      "metadata": {
        "id": "199880ab-aaea-4674-baec-a50d015d05f0"
      },
      "outputs": [],
      "source": [
        "y_predict2=pipe.predict(x_test)"
      ]
    },
    {
      "cell_type": "code",
      "execution_count": null,
      "id": "fe5d9b44-f269-405d-ba5b-b3f6868bfe52",
      "metadata": {
        "id": "fe5d9b44-f269-405d-ba5b-b3f6868bfe52"
      },
      "outputs": [],
      "source": [
        "r2_score(y_test,y_predict2)"
      ]
    },
    {
      "cell_type": "code",
      "execution_count": null,
      "id": "83442000-ddf3-4d54-a494-c4b00f01a7ac",
      "metadata": {
        "id": "83442000-ddf3-4d54-a494-c4b00f01a7ac"
      },
      "outputs": [],
      "source": []
    },
    {
      "cell_type": "code",
      "execution_count": null,
      "id": "933bea37-8d5f-4a02-bf1b-2de93aadd18b",
      "metadata": {
        "id": "933bea37-8d5f-4a02-bf1b-2de93aadd18b"
      },
      "outputs": [],
      "source": []
    },
    {
      "cell_type": "markdown",
      "id": "872cb00f-06e2-4168-ac50-690d780480f2",
      "metadata": {
        "id": "872cb00f-06e2-4168-ac50-690d780480f2"
      },
      "source": [
        "# model2"
      ]
    },
    {
      "cell_type": "code",
      "execution_count": null,
      "id": "bb5989a9-181e-4244-87b8-5465e54ca71a",
      "metadata": {
        "id": "bb5989a9-181e-4244-87b8-5465e54ca71a"
      },
      "outputs": [],
      "source": []
    },
    {
      "cell_type": "code",
      "execution_count": null,
      "id": "b4f0c46f-dc63-4b36-b727-14e69146e0f5",
      "metadata": {
        "id": "b4f0c46f-dc63-4b36-b727-14e69146e0f5"
      },
      "outputs": [],
      "source": []
    },
    {
      "cell_type": "code",
      "execution_count": null,
      "id": "fb0fe63d-d5bc-4340-a72d-14705c2f2647",
      "metadata": {
        "id": "fb0fe63d-d5bc-4340-a72d-14705c2f2647"
      },
      "outputs": [],
      "source": []
    }
  ],
  "metadata": {
    "colab": {
      "provenance": []
    },
    "kernelspec": {
      "display_name": "Python 3 (ipykernel)",
      "language": "python",
      "name": "python3"
    },
    "language_info": {
      "codemirror_mode": {
        "name": "ipython",
        "version": 3
      },
      "file_extension": ".py",
      "mimetype": "text/x-python",
      "name": "python",
      "nbconvert_exporter": "python",
      "pygments_lexer": "ipython3",
      "version": "3.11.7"
    }
  },
  "nbformat": 4,
  "nbformat_minor": 5
}